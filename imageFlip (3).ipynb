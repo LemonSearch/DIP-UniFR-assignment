{
  "nbformat": 4,
  "nbformat_minor": 0,
  "metadata": {
    "colab": {
      "provenance": []
    },
    "kernelspec": {
      "name": "python3",
      "display_name": "Python 3"
    },
    "language_info": {
      "name": "python"
    }
  },
  "cells": [
    {
      "cell_type": "markdown",
      "source": [
        "# Task: Flipping Images\n",
        "\n",
        "## Description\n",
        "This program used **Pillow** and **Numpy** to turn the image into ndarray. Then, fliped the image by flipping the ndarray. This program also used **ipywidgets** to creat some interactive widgets in order to build an easy using enviroment.\n",
        "\n",
        "## Program\n",
        "\n",
        "### 0. Library installation"
      ],
      "metadata": {
        "id": "v5mlvgtb3mJt"
      }
    },
    {
      "cell_type": "code",
      "execution_count": null,
      "metadata": {
        "id": "zTEvppBBmBia"
      },
      "outputs": [],
      "source": [
        "# install all the required libraries\n",
        "!pip install ipywidgets\n",
        "!pip install Pillow\n",
        "!pip install numpy"
      ]
    },
    {
      "cell_type": "markdown",
      "source": [
        "### 1. Images Loading\n",
        "Click the \"Upload Image\" button to upload your image to the program."
      ],
      "metadata": {
        "id": "HvJhaSQ66-ye"
      }
    },
    {
      "cell_type": "code",
      "source": [
        "# install all the required libraries\n",
        "import ipywidgets as widgets\n",
        "from IPython.display import display, Image, clear_output\n",
        "\n",
        "# instantiate the widgets\n",
        "file_upload = widgets.FileUpload(accept='.jpg', description='Upload Image')\n",
        "upload_output = widgets.Output()\n",
        "\n",
        "# save the image in local computer\n",
        "def on_file_upload(activate):\n",
        "  uploaded_filename = list(file_upload.value.keys())[0]\n",
        "  file_content = file_upload.value[uploaded_filename]['content']\n",
        "  filename = 'image.jpg'\n",
        "\n",
        "  with open(filename, 'wb') as f:\n",
        "    f.write(file_content)\n",
        "\n",
        "  with upload_output:\n",
        "    clear_output()\n",
        "    print(f'{uploaded_filename} is uploaded!')\n",
        "    display(Image(filename=filename, width=300))\n",
        "\n",
        "  file_upload.value.clear()\n",
        "  file_upload._counter = 0\n",
        "\n",
        "# link the action to the event\n",
        "file_upload.observe(on_file_upload, names='value')\n",
        "\n",
        "# display the widgets\n",
        "display(file_upload, upload_output)\n"
      ],
      "metadata": {
        "id": "Xdfm57dMmR4B"
      },
      "execution_count": null,
      "outputs": []
    },
    {
      "cell_type": "markdown",
      "source": [
        "### 2. Fliping Functions\n",
        "**ATTENTION!** This is the core of the images flipping program. It shows how does the flipping algorithm work."
      ],
      "metadata": {
        "id": "-97YFMRd76th"
      }
    },
    {
      "cell_type": "code",
      "source": [
        "# install all the required libraries\n",
        "import numpy as np\n",
        "import PIL\n",
        "\n",
        "# horizontally flip the image and save\n",
        "def horizontal_flip(image_path):\n",
        "  image = PIL.Image.open(image_path)\n",
        "  image_array = np.array(image)\n",
        "  h_fliped_array = np.flip(image_array, axis=1)\n",
        "  h_fliped_image = PIL.Image.fromarray(h_fliped_array)\n",
        "  h_fliped_image.save(image_path)\n",
        "\n",
        "# vertically flip the image and save\n",
        "def vertical_flip(image_path):\n",
        "  image = PIL.Image.open(image_path)\n",
        "  image_array = np.array(image)\n",
        "  v_fliped_array = np.flip(image_array, axis=0)\n",
        "  v_fliped_image = PIL.Image.fromarray(v_fliped_array)\n",
        "  v_fliped_image.save(image_path)\n",
        "\n"
      ],
      "metadata": {
        "id": "Sj14s9N2wHwl"
      },
      "execution_count": 3,
      "outputs": []
    },
    {
      "cell_type": "markdown",
      "source": [
        "### 3. Display the fliped image\n",
        "Click the \"Horizontal Flip\" or \"Vertical Flip\" button to flip the image."
      ],
      "metadata": {
        "id": "QH6YUkPH831I"
      }
    },
    {
      "cell_type": "code",
      "source": [
        "# install all the required libraries\n",
        "import ipywidgets as widgets\n",
        "from IPython.display import display, Image, clear_output\n",
        "\n",
        "# instantiate the widgets\n",
        "button_1 = widgets.Button(description='Horizontal Flip')\n",
        "button_2 = widgets.Button(description='Vertical Flip')\n",
        "flip_output = widgets.Output()\n",
        "\n",
        "# show the horizontally fliped image\n",
        "def on_button_1_click(activate):\n",
        "  image_path = 'image.jpg'\n",
        "  horizontal_flip(image_path)\n",
        "\n",
        "  with flip_output:\n",
        "    clear_output()\n",
        "    print('The image is horizontally fliped!')\n",
        "    display(Image(filename=image_path, width=300))\n",
        "\n",
        "# show the vertically fliped image\n",
        "def on_button_2_click(activate):\n",
        "  image_path = 'image.jpg'\n",
        "  vertical_flip(image_path)\n",
        "\n",
        "  with flip_output:\n",
        "    clear_output()\n",
        "    print('The image is vertically fliped!')\n",
        "    display(Image(filename=image_path, width=300))\n",
        "\n",
        "# link the action to the event\n",
        "button_1.on_click(on_button_1_click)\n",
        "button_2.on_click(on_button_2_click)\n",
        "\n",
        "# display the widgets\n",
        "display(button_1, button_2, flip_output)\n",
        "\n"
      ],
      "metadata": {
        "id": "AdGoX_BD-Wge"
      },
      "execution_count": null,
      "outputs": []
    }
  ]
}