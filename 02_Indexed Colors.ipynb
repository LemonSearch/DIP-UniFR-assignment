{
  "nbformat": 4,
  "nbformat_minor": 0,
  "metadata": {
    "colab": {
      "provenance": []
    },
    "kernelspec": {
      "name": "python3",
      "display_name": "Python 3"
    },
    "language_info": {
      "name": "python"
    }
  },
  "cells": [
    {
      "cell_type": "code",
      "execution_count": null,
      "metadata": {
        "id": "DjBDHS8t1Qza"
      },
      "outputs": [],
      "source": [
        "import numpy as np\n",
        "\n"
      ]
    },
    {
      "cell_type": "code",
      "source": [
        "class ColorNode:\n",
        "\n",
        "    def __init__(self, parent_color, node_color, color_list, child_nodes=None):\n",
        "\n",
        "        self.node_color = node_color\n",
        "        self.color_list =  color_list\n",
        "\n",
        "        self.distance_before = self.calculate_distance(parent_color)\n",
        "        self.distance_after = self.calculate_distance(node_color)\n",
        "\n",
        "        self.child_nodes = child_nodes if child_nodes is not None else []\n",
        "\n",
        "    def get_node_color(self):\n",
        "        return self.node_color\n",
        "\n",
        "    def get_color_list(self):\n",
        "        return self.color_list\n",
        "\n",
        "    def calculate_distance(self, point):\n",
        "        distances = np.linalg.norm(self.color_list - point, axis=1)\n",
        "        return np.sum(distances)"
      ],
      "metadata": {
        "id": "cWfz_KpR4dGm"
      },
      "execution_count": null,
      "outputs": []
    },
    {
      "cell_type": "code",
      "source": [
        "def creat_color_tree(color_list, parent_color, idx, d):\n",
        "\n",
        "  if color_list.size()==0:\n",
        "    return None\n",
        "\n",
        "  node_color = parent_color\n",
        "  if idx==0:\n",
        "    node_color = node_color+np.array([d,d,d])\n",
        "  elif idx==1:\n",
        "    node_color = node_color+np.array([-d,d,d])\n",
        "  elif idx==2:\n",
        "    node_color = node_color+np.array([d,-d,d])\n",
        "  elif idx==3:\n",
        "    node_color = node_color+np.array([-d,-d,d])\n",
        "  elif idx==4:\n",
        "    node_color = node_color+np.array([d,d,-d])\n",
        "  elif idx==5:\n",
        "    node_color = node_color+np.array([-d,d,-d])\n",
        "  elif idx==6:\n",
        "    node_color = node_color+np.array([d,-d,-d])\n",
        "  else:\n",
        "    node_color = node_color+np.array([-d,-d,-d])\n",
        "\n",
        "  child_color_lists = []\n",
        "  for color in color_list:\n",
        "\n",
        "\n",
        "  child_d = d/2\n",
        "  child_nodes = []\n",
        "  for child_idx in range(8):\n"
      ],
      "metadata": {
        "id": "0SJejk9V7Cv1"
      },
      "execution_count": null,
      "outputs": []
    }
  ]
}